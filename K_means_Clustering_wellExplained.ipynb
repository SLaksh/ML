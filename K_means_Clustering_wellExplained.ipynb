{
  "nbformat": 4,
  "nbformat_minor": 0,
  "metadata": {
    "colab": {
      "provenance": [],
      "authorship_tag": "ABX9TyNV/7BUKUursPVB36rPxu17",
      "include_colab_link": true
    },
    "kernelspec": {
      "name": "python3",
      "display_name": "Python 3"
    },
    "language_info": {
      "name": "python"
    }
  },
  "cells": [
    {
      "cell_type": "markdown",
      "metadata": {
        "id": "view-in-github",
        "colab_type": "text"
      },
      "source": [
        "<a href=\"https://colab.research.google.com/github/SLaksh/ML/blob/main/K_means_Clustering_wellExplained.ipynb\" target=\"_parent\"><img src=\"https://colab.research.google.com/assets/colab-badge.svg\" alt=\"Open In Colab\"/></a>"
      ]
    },
    {
      "cell_type": "markdown",
      "source": [
        "# **K Means Clustering**"
      ],
      "metadata": {
        "id": "Y0IrchlG7RNv"
      }
    },
    {
      "cell_type": "markdown",
      "source": [
        "K-means clustering is a classic unsupervised learning approach that segments a dataset into k-clusters, with each data point assigned to the cluster with the closest mean."
      ],
      "metadata": {
        "id": "aFNUhm197S5I"
      }
    },
    {
      "cell_type": "code",
      "execution_count": 1,
      "metadata": {
        "id": "9oh3EtiPyQ7J"
      },
      "outputs": [],
      "source": [
        "import random\n",
        "import math\n",
        "import matplotlib.pyplot as plt"
      ]
    },
    {
      "cell_type": "markdown",
      "source": [
        "**The Function to parse the columns**"
      ],
      "metadata": {
        "id": "M932LHGx7knp"
      }
    },
    {
      "cell_type": "code",
      "source": [
        "def read_csv(path, columns):\n",
        "    header = []\n",
        "    data = []\n",
        "    size = 0\n",
        "    with open(path, 'r') as file:\n",
        "        header = file.readline().strip().split(',')\n",
        "        for line in file:\n",
        "            data.append(line.strip().split(','))\n",
        "            size += 1\n",
        "    for i in range(size):\n",
        "        for j in columns:\n",
        "            data[i][j] = float(data[i][j])\n",
        "    return header, data, size"
      ],
      "metadata": {
        "id": "fEnkjfDv1TOw"
      },
      "execution_count": 2,
      "outputs": []
    },
    {
      "cell_type": "markdown",
      "source": [
        "# **1. Initialization of the Centroids**"
      ],
      "metadata": {
        "id": "ucDGr_rS7vbE"
      }
    },
    {
      "cell_type": "markdown",
      "source": [
        "*   It produces an **initial set of centroids by randomly **picking separate data points from the input dataset.\n",
        "*   This random initialization of centroids is an important phase in K-means since it affects the clustering process's **efficiency and outcome**.\n",
        "*   The algorithm then iteratively **refines these centroids**, assigning data points to the nearest centroid and until convergence is achieved.\n",
        "\n",
        "\n",
        "\n"
      ],
      "metadata": {
        "id": "GZteRCvA70UO"
      }
    },
    {
      "cell_type": "code",
      "source": [
        "def initialize_centroids(data, columns, size, n_clusters):\n",
        "    centroids = [[0 for _ in columns] for _ in range(n_clusters)]\n",
        "    for c_i, d_i in enumerate(random.sample(range(size), n_clusters)):\n",
        "        for c_j, d_j in enumerate(columns):\n",
        "            centroids[c_i][c_j] = data[d_i][d_j]\n",
        "    return centroids"
      ],
      "metadata": {
        "id": "xvONP-271WsP"
      },
      "execution_count": 3,
      "outputs": []
    },
    {
      "cell_type": "markdown",
      "source": [
        "# **2.  Cluster Assignment**"
      ],
      "metadata": {
        "id": "07y8ghdq8pdO"
      }
    },
    {
      "cell_type": "markdown",
      "source": [
        "*  It iterates over every data point, calculating the **Euclidean distance to each centroid. **\n",
        "*   The function then **updates each data point's label to the index of its nearest centroid**, which is obtained using the shortest squared Euclidean distance.\n",
        "*   This clustering procedure is essential in K-means since it assigns each data point to a cluster, resulting in the establishment of different groups based on feature similarities.\n",
        "\n",
        "\n",
        "\n"
      ],
      "metadata": {
        "id": "RzZlGOH79RnA"
      }
    },
    {
      "cell_type": "code",
      "source": [
        "def assign_labels(data, columns, size, centroids):\n",
        "    labels = [[float('inf'), None] for _ in range(size)]\n",
        "    for d_index, d_list in enumerate(data):\n",
        "        for c_index, c_list in enumerate(centroids):\n",
        "            distance = 0\n",
        "            for index, value in enumerate(columns):\n",
        "                distance += (d_list[value]-c_list[index])**2\n",
        "            squared_distance = math.sqrt(distance)\n",
        "            if squared_distance < labels[d_index][0]:\n",
        "                labels[d_index] = [squared_distance, c_index]\n",
        "    return labels"
      ],
      "metadata": {
        "id": "iX_nvDdI1dUa"
      },
      "execution_count": 4,
      "outputs": []
    },
    {
      "cell_type": "markdown",
      "source": [
        "# **3. Refining Cluster Centers**"
      ],
      "metadata": {
        "id": "k7r5BT6l9oni"
      }
    },
    {
      "cell_type": "markdown",
      "source": [
        "*   After all data points have been allocated to the nearest centroid, the **update() function recalculates the centroid** for each cluster.\n",
        "*   It does this by a**veraging the distinctive features of all data points** given to each cluster.\n",
        "*   This updating of the centroids based on the current cluster assignments helps the algorithm converge towards an **ideal cluster centres.**\n",
        "\n",
        "\n",
        "\n"
      ],
      "metadata": {
        "id": "WxKi4tDq-Gif"
      }
    },
    {
      "cell_type": "code",
      "source": [
        "def update_centroids(data, columns, n_clusters, labels):\n",
        "    new_centroids = [[0 for _ in columns] for _ in range(n_clusters)]\n",
        "    count = [0 for _ in range(n_clusters)]\n",
        "    for d_index, d_list in enumerate(data):\n",
        "        count[labels[d_index][1]] += 1\n",
        "        for index, value in enumerate(columns):\n",
        "            new_centroids[labels[d_index][1]][index] += d_list[value]\n",
        "    for c_index, c_value in enumerate(new_centroids):\n",
        "        for index, value in enumerate(c_value):\n",
        "            new_centroids[c_index][index] /= count[c_index]\n",
        "    return new_centroids"
      ],
      "metadata": {
        "id": "6fbyO-qM1lNq"
      },
      "execution_count": 5,
      "outputs": []
    },
    {
      "cell_type": "markdown",
      "source": [
        "# **4. Evaluating Cluster cohesiveness**"
      ],
      "metadata": {
        "id": "1EowEl85_XMm"
      }
    },
    {
      "cell_type": "markdown",
      "source": [
        "**Inertia**, in K-means, refers to the sum of squared distances between each data point and its corresponding centroid. This function iterates through all data points, accumulating the squared distances from each point to its assigned centroid.\n",
        "\n",
        "*  The **lower the inertia,** the more cohesive (or tightly grouped) the clusters are, indicating better clustering.\n",
        "*   **High inertia** suggests that data points are spread out and far from their centroids, implying less optimal clustering.\n",
        "\n"
      ],
      "metadata": {
        "id": "OiOzTQVC_ccd"
      }
    },
    {
      "cell_type": "code",
      "source": [
        "def calculate_inertia(labels):\n",
        "    inertia = 0\n",
        "    for _, value in enumerate(labels):\n",
        "        inertia += value[0] ** 2\n",
        "    return inertia"
      ],
      "metadata": {
        "id": "cBxtUna91oH5"
      },
      "execution_count": 6,
      "outputs": []
    },
    {
      "cell_type": "markdown",
      "source": [
        "# **5. Optimal Cluster Formation**"
      ],
      "metadata": {
        "id": "JT_1wvxc_0QP"
      }
    },
    {
      "cell_type": "markdown",
      "source": [
        "1.  The KMeans function encapsulates the entire process of the K-means clustering algorithm.\n",
        "2.   It begins by **initializing centroids** and iterates through a series of steps to **form clusters.**\n",
        "3. For each iteration **(determined by n_init)**, it initializes centroids using **initialize_centroids,** then enters a loop where it continuously **assigns labels to data points** based on the nearest centroid using **assign_labels**, and updates the centroids' positions with **update_centroids**.\n",
        "4. This loop continues until the centroids' positions stabilize (i.e., no further changes occur), indicating that the **clusters have converged.**\n",
        "5. After each iteration, it calculates the inertia (the sum of squared distances from each point to its centroid) using **calculate_inertia**.\n",
        "6. The algorithm compares inertia across different initializations and retains the clustering (centroids, labels) with the lowest inertia, as this represents the most compact and well-separated clustering.\n",
        "\n",
        "\n",
        "\n",
        "\n",
        "\n",
        "\n"
      ],
      "metadata": {
        "id": "zfHCUG_z_7EB"
      }
    },
    {
      "cell_type": "code",
      "source": [
        "def KMeans(data, columns, size, n_clusters, n_init=30):\n",
        "    centroids = None\n",
        "    labels = None\n",
        "    inertia = float('inf')\n",
        "    for _ in range(n_init):\n",
        "        centroids_ = initialize_centroids(data, columns, size, n_clusters)\n",
        "        try:\n",
        "            while True:\n",
        "                labels_ = assign_labels(data, columns, size, centroids_)\n",
        "                new_centroids = update_centroids(\n",
        "                    data, columns, n_clusters, labels_)\n",
        "                if new_centroids == centroids_:\n",
        "                    break\n",
        "                centroids_ = new_centroids\n",
        "            inertia_ = calculate_inertia(labels_)\n",
        "            if inertia_ < inertia:\n",
        "                centroids, labels, inertia = centroids_, labels_, inertia_\n",
        "        except:\n",
        "            continue\n",
        "    return centroids, labels, inertia"
      ],
      "metadata": {
        "id": "90_zORyy1rF5"
      },
      "execution_count": 7,
      "outputs": []
    },
    {
      "cell_type": "code",
      "source": [
        "filePath = './Mall_Customers.csv'\n",
        "columns = [3, 4]\n",
        "header, data, size = read_csv(filePath, columns)"
      ],
      "metadata": {
        "id": "zJU-UD1U6DEl"
      },
      "execution_count": 8,
      "outputs": []
    },
    {
      "cell_type": "code",
      "source": [
        "for d in data:\n",
        "    plt.scatter(float(d[3]), float(d[4]), color='#1f77b4')\n",
        "plt.show()"
      ],
      "metadata": {
        "colab": {
          "base_uri": "https://localhost:8080/",
          "height": 430
        },
        "id": "UVce5OTG6Fvv",
        "outputId": "8108624c-7ae7-4fd8-9f77-f21b57eab0de"
      },
      "execution_count": 9,
      "outputs": [
        {
          "output_type": "display_data",
          "data": {
            "text/plain": [
              "<Figure size 640x480 with 1 Axes>"
            ],
            "image/png": "[encoded data removed]"
          },
          "metadata": {}
        }
      ]
    },
    {
      "cell_type": "code",
      "source": [
        "for i in range(1, 11):\n",
        "    centroids, labels, inertia = KMeans(data, columns, size, i)\n",
        "    plt.scatter(i, inertia/10000)\n",
        "plt.xlabel('n-clusters')\n",
        "plt.ylabel('Inertia')\n",
        "plt.show()"
      ],
      "metadata": {
        "colab": {
          "base_uri": "https://localhost:8080/",
          "height": 449
        },
        "id": "n-TwgWsj6phO",
        "outputId": "95f252fc-d5c2-4464-cb3a-95f3b1683314"
      },
      "execution_count": 10,
      "outputs": [
        {
          "output_type": "display_data",
          "data": {
            "text/plain": [
              "<Figure size 640x480 with 1 Axes>"
            ],
            "image/png": "[encoded data removed]"
          },
          "metadata": {}
        }
      ]
    },
    {
      "cell_type": "code",
      "source": [
        "n_clusters = 5\n",
        "centroids, labels, inertia = KMeans(data, columns, size, n_clusters)\n",
        "print(inertia)\n",
        "print(centroids)"
      ],
      "metadata": {
        "colab": {
          "base_uri": "https://localhost:8080/"
        },
        "id": "z1LpdXbL6sQo",
        "outputId": "8305cb4e-d5d4-47c1-dc2b-e7341546b6b2"
      },
      "execution_count": 11,
      "outputs": [
        {
          "output_type": "stream",
          "name": "stdout",
          "text": [
            "44448.4554479337\n",
            "[[55.2962962962963, 49.51851851851852], [88.2, 17.114285714285714], [26.304347826086957, 20.91304347826087], [25.727272727272727, 79.36363636363636], [86.53846153846153, 82.12820512820512]]\n"
          ]
        }
      ]
    },
    {
      "cell_type": "code",
      "source": [
        "for i, d in enumerate(data):\n",
        "    c = str(round(labels[i][1]/n_clusters, 1))\n",
        "    plt.scatter(d[3], d[4], color=c)\n",
        "for c in centroids:\n",
        "    plt.scatter(c[0], c[1], color='red')\n",
        "plt.show()"
      ],
      "metadata": {
        "colab": {
          "base_uri": "https://localhost:8080/",
          "height": 430
        },
        "id": "G6Xb7ooh6ukX",
        "outputId": "bb5390ab-fd8a-4d34-fbf6-766d5f3c8f82"
      },
      "execution_count": 14,
      "outputs": [
        {
          "output_type": "display_data",
          "data": {
            "text/plain": [
              "<Figure size 640x480 with 1 Axes>"
            ],
            "image/png": "[encoded data removed]"
          },
          "metadata": {}
        }
      ]
    }
  ]
}